{
 "cells": [
  {
   "cell_type": "code",
   "execution_count": 2,
   "metadata": {},
   "outputs": [
    {
     "name": "stdout",
     "output_type": "stream",
     "text": [
      "NASA's MAVEN Spacecraft Shrinking its Mars Orbit to Prepare for Mars 2020 Rover\n",
      "The MAVEN spacecraft today is starting a campaign to tighten its orbit around Mars to prepare to serve as a data-relay satellite for NASA’s Mars 2020 rover, which launches next year.\n"
     ]
    }
   ],
   "source": [
    "from bs4 import BeautifulSoup\n",
    "import requests\n",
    "from splinter import Browser\n",
    "import pandas as pd\n",
    "from selenium import webdriver\n",
    "\n",
    "\n",
    "nasa_url = \"https://mars.nasa.gov/news/\"\n",
    "nasa_browser = webdriver.Chrome()\n",
    "nasa_browser.get(nasa_url)\n",
    "nasa_rendered = nasa_browser.execute_script(\"return document.body.innerHTML\")\n",
    "soup_nasa = BeautifulSoup(nasa_rendered,'html.parser')\n",
    "\n",
    "#Nasa Mars latest news\n",
    "nasa_div_tag = soup_nasa.find('div',class_='image_and_description_container')\n",
    "nasa_latest_title = nasa_div_tag.find('h3').text\n",
    "print(nasa_latest_title)\n",
    "#Nasa paragraph\n",
    "nasa_paragraph = soup_nasa.find('div',class_='rollover_description_inner').text\n",
    "print(nasa_paragraph)\n"
   ]
  },
  {
   "cell_type": "code",
   "execution_count": 3,
   "metadata": {},
   "outputs": [
    {
     "name": "stdout",
     "output_type": "stream",
     "text": [
      "https://www.jpl.nasa.gov/spaceimages/images/wallpaper/PIA16837-1920x1200.jpg\n"
     ]
    }
   ],
   "source": [
    "#JPL Mars space images\n",
    "executable_path = {'executable_path': '/usr/local/bin/chromedriver'}\n",
    "browser = Browser('chrome', **executable_path, headless=False)\n",
    "jpl_url = \"https://www.jpl.nasa.gov/spaceimages/?search=&category=Mars\"\n",
    "browser.visit(jpl_url)\n",
    "jpl_home_url = \"https://www.jpl.nasa.gov\"\n",
    "response_jpl = requests.get(jpl_url)\n",
    "soup_jpl = BeautifulSoup(response_jpl.text,'html.parser')\n",
    "\n",
    "jpl_class = soup_jpl.find('article',class_='carousel_item')\n",
    "jpl_style = jpl_class[\"style\"]\n",
    "jpl_scrape_image = jpl_style[23:][:-3]\n",
    "jpl_full_image = jpl_home_url+jpl_scrape_image\n",
    "print(jpl_full_image)"
   ]
  },
  {
   "cell_type": "code",
   "execution_count": 4,
   "metadata": {},
   "outputs": [
    {
     "name": "stdout",
     "output_type": "stream",
     "text": [
      "[                      0                              1\n",
      "0  Equatorial Diameter:                       6,792 km\n",
      "1       Polar Diameter:                       6,752 km\n",
      "2                 Mass:  6.42 x 10^23 kg (10.7% Earth)\n",
      "3                Moons:            2 (Phobos & Deimos)\n",
      "4       Orbit Distance:       227,943,824 km (1.52 AU)\n",
      "5         Orbit Period:           687 days (1.9 years)\n",
      "6  Surface Temperature:                  -153 to 20 °C\n",
      "7         First Record:              2nd millennium BC\n",
      "8          Recorded By:           Egyptian astronomers]\n"
     ]
    }
   ],
   "source": [
    "#Mars weather\n",
    "mars_weather_url = 'https://twitter.com/marswxreport?lang=en'\n",
    "response_weather = requests.get(mars_weather_url)\n",
    "soup_weather = BeautifulSoup(response_weather.text,'html.parser')\n",
    "\n",
    "mars_weather = soup_weather.find('p',class_='TweetTextSize TweetTextSize--normal js-tweet-text tweet-text').text\n",
    "#print(mars_weather)\n",
    "\n",
    "#Mars Facts\n",
    "mars_facts_url = 'https://space-facts.com/mars/'\n",
    "tables = pd.read_html(mars_facts_url,header=None)\n",
    "print(tables)"
   ]
  },
  {
   "cell_type": "code",
   "execution_count": 6,
   "metadata": {},
   "outputs": [
    {
     "name": "stdout",
     "output_type": "stream",
     "text": [
      "[{'title': 'Cerberus Hemisphere Enhanced', 'img_url': 'https://astrogeology.usgs.gov/cache/images/cfa62af2557222a02478f1fcd781d445_cerberus_enhanced.tif_full.jpg'}, {'title': 'Schiaparelli Hemisphere Enhanced', 'img_url': 'https://astrogeology.usgs.gov/cache/images/3cdd1cbf5e0813bba925c9030d13b62e_schiaparelli_enhanced.tif_full.jpg'}, {'title': 'Syrtis Major Hemisphere Enhanced', 'img_url': 'https://astrogeology.usgs.gov/cache/images/ae209b4e408bb6c3e67b6af38168cf28_syrtis_major_enhanced.tif_full.jpg'}, {'title': 'Valles Marineris Hemisphere Enhanced', 'img_url': 'https://astrogeology.usgs.gov/cache/images/7cf2da4bf549ed01c17f206327be4db7_valles_marineris_enhanced.tif_full.jpg'}]\n"
     ]
    }
   ],
   "source": [
    "    #Mars Hemispheres\n",
    "    hemisphere_list = ['cerberus_enhanced','schiaparelli_enhanced','syrtis_major_enhanced','valles_marineris_enhanced']\n",
    "    hemisphere_img_url = []\n",
    "    hemisphere_base_url = 'https://astrogeology.usgs.gov/search/map/Mars/Viking/'\n",
    "    usgs_home_url = 'https://astrogeology.usgs.gov'\n",
    "    hemi_dict = {}\n",
    "    for hemisphere in hemisphere_list:\n",
    "        hemisphere_url = hemisphere_base_url+hemisphere\n",
    "        response = requests.get(hemisphere_url)\n",
    "        soup = BeautifulSoup(response.text,'html.parser')\n",
    "        hemi_img = soup.find('img',class_='wide-image')\n",
    "        hemi_img_url = usgs_home_url+hemi_img['src']\n",
    "        hemisphere_title = soup.find('h2',class_='title').text\n",
    "        hemi_dict['title'] = hemisphere_title\n",
    "        hemi_dict['img_url']= hemi_img_url\n",
    "        hemisphere_img_url.append(dict(hemi_dict))\n",
    "    \n",
    "    print(hemisphere_img_url)"
   ]
  }
 ],
 "metadata": {
  "kernelspec": {
   "display_name": "sat_env",
   "language": "python",
   "name": "sat_env"
  },
  "language_info": {
   "codemirror_mode": {
    "name": "ipython",
    "version": 3
   },
   "file_extension": ".py",
   "mimetype": "text/x-python",
   "name": "python",
   "nbconvert_exporter": "python",
   "pygments_lexer": "ipython3",
   "version": "3.6.7"
  }
 },
 "nbformat": 4,
 "nbformat_minor": 2
}
